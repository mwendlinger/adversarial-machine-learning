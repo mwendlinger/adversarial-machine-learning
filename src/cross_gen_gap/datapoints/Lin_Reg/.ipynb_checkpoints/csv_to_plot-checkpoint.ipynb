{
 "cells": [
  {
   "cell_type": "code",
   "execution_count": 1,
   "id": "c75c119b",
   "metadata": {},
   "outputs": [
    {
     "name": "stderr",
     "output_type": "stream",
     "text": [
      "/tmp/ipykernel_8118/2451341646.py:4: DeprecationWarning: Please use `gaussian_filter1d` from the `scipy.ndimage` namespace, the `scipy.ndimage.filters` namespace is deprecated.\n",
      "  from scipy.ndimage.filters import gaussian_filter1d\n"
     ]
    }
   ],
   "source": [
    "import pandas as pd\n",
    "import numpy as np\n",
    "import matplotlib.pyplot as plt\n",
    "from scipy.ndimage.filters import gaussian_filter1d"
   ]
  },
  {
   "cell_type": "code",
   "execution_count": 3,
   "id": "c837a24a",
   "metadata": {},
   "outputs": [],
   "source": [
    "# for gauss:\n",
    "n_points = list(range(1, 21,2))\n",
    "eps_list = [0.0, 0.1, 0.5, 0.75, 1.0]\n",
    "num_repetition = 100\n",
    "\n",
    "adv_test_loss = np.zeros([len(eps_list), len(n_points), num_repetition], dtype=np.float64)\n",
    "\n",
    "for i in range(len(eps_list)):\n",
    "    arr = np.genfromtxt('tmp_{}.csv'.format(i),delimiter=',', skip_header = 1)\n",
    "    arr_pruned = arr[:,1:]\n",
    "    adv_test_loss[i] = arr_pruned\n",
    "   \n",
    "# for bernoulli:\n",
    "#x = list(range(1, 162, 20))"
   ]
  },
  {
   "cell_type": "code",
   "execution_count": 4,
   "id": "e8f1525a",
   "metadata": {},
   "outputs": [
    {
     "ename": "IndexError",
     "evalue": "index 10 is out of bounds for axis 1 with size 10",
     "output_type": "error",
     "traceback": [
      "\u001b[0;31m---------------------------------------------------------------------------\u001b[0m",
      "\u001b[0;31mIndexError\u001b[0m                                Traceback (most recent call last)",
      "Input \u001b[0;32mIn [4]\u001b[0m, in \u001b[0;36m<cell line: 5>\u001b[0;34m()\u001b[0m\n\u001b[1;32m      9\u001b[0m \u001b[38;5;28;01mfor\u001b[39;00m n \u001b[38;5;129;01min\u001b[39;00m n_points:\n\u001b[1;32m     10\u001b[0m   n\u001b[38;5;241m=\u001b[39m\u001b[38;5;28mint\u001b[39m(n)\n\u001b[0;32m---> 11\u001b[0m   test_eps[n\u001b[38;5;241m-\u001b[39m\u001b[38;5;241m1\u001b[39m]\u001b[38;5;241m=\u001b[39mnp\u001b[38;5;241m.\u001b[39mmean(\u001b[43madv_test_loss\u001b[49m\u001b[43m[\u001b[49m\u001b[43meps_idx\u001b[49m\u001b[43m,\u001b[49m\u001b[43mn\u001b[49m\u001b[38;5;241;43m-\u001b[39;49m\u001b[38;5;241;43m1\u001b[39;49m\u001b[43m,\u001b[49m\u001b[38;5;241;43m1\u001b[39;49m\u001b[43m:\u001b[49m\u001b[43m]\u001b[49m)\n\u001b[1;32m     13\u001b[0m \u001b[38;5;66;03m#plt.plot(x, test_eps,label=\"$\\epsilon$ = {}\".format(eps))\u001b[39;00m\n\u001b[1;32m     14\u001b[0m ysmoothed \u001b[38;5;241m=\u001b[39m gaussian_filter1d(test_eps, sigma\u001b[38;5;241m=\u001b[39m\u001b[38;5;241m2\u001b[39m)\n",
      "\u001b[0;31mIndexError\u001b[0m: index 10 is out of bounds for axis 1 with size 10"
     ]
    }
   ],
   "source": [
    "x=n_points\n",
    "\n",
    "xnew = np.linspace(1, 20, 8) \n",
    "\n",
    "for eps_idx in range(len(eps_list)):\n",
    "  eps = eps_list[eps_idx]\n",
    "  test_eps=np.zeros(len(x))\n",
    "  \n",
    "  for n in n_points:\n",
    "    n=int(n)\n",
    "    test_eps[n-1]=np.mean(adv_test_loss[eps_idx,n-1,1:])\n",
    "    \n",
    "  #plt.plot(x, test_eps,label=\"$\\epsilon$ = {}\".format(eps))\n",
    "  ysmoothed = gaussian_filter1d(test_eps, sigma=2)\n",
    "  plt.plot(x, ysmoothed,label=\"$\\epsilon$ = {}\".format(eps))\n",
    "  \n",
    "plt.legend(loc='upper right')\n",
    "plt.xlabel('Size of training dataset')\n",
    "plt.ylabel('Test loss')\n",
    "\n",
    "plt.savefig('Class_loss_gauss_filter2.pdf')\n",
    "#files.download('Class_loss_gauss_filter2.pdf')\n",
    "plt.show()"
   ]
  },
  {
   "cell_type": "code",
   "execution_count": null,
   "id": "271921a7",
   "metadata": {},
   "outputs": [],
   "source": []
  }
 ],
 "metadata": {
  "kernelspec": {
   "display_name": "Python 3 (ipykernel)",
   "language": "python",
   "name": "python3"
  },
  "language_info": {
   "codemirror_mode": {
    "name": "ipython",
    "version": 3
   },
   "file_extension": ".py",
   "mimetype": "text/x-python",
   "name": "python",
   "nbconvert_exporter": "python",
   "pygments_lexer": "ipython3",
   "version": "3.10.5"
  }
 },
 "nbformat": 4,
 "nbformat_minor": 5
}
