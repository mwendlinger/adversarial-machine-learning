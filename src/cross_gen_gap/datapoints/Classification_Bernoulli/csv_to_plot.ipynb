{
 "cells": [
  {
   "cell_type": "code",
   "execution_count": 1,
   "id": "c75c119b",
   "metadata": {},
   "outputs": [
    {
     "name": "stderr",
     "output_type": "stream",
     "text": [
      "/tmp/ipykernel_5978/2451341646.py:4: DeprecationWarning: Please use `gaussian_filter1d` from the `scipy.ndimage` namespace, the `scipy.ndimage.filters` namespace is deprecated.\n",
      "  from scipy.ndimage.filters import gaussian_filter1d\n"
     ]
    }
   ],
   "source": [
    "import pandas as pd\n",
    "import numpy as np\n",
    "import matplotlib.pyplot as plt\n",
    "from scipy.ndimage.filters import gaussian_filter1d"
   ]
  },
  {
   "cell_type": "code",
   "execution_count": 2,
   "id": "c837a24a",
   "metadata": {},
   "outputs": [
    {
     "data": {
      "text/plain": [
       "(9, 99)"
      ]
     },
     "execution_count": 2,
     "metadata": {},
     "output_type": "execute_result"
    }
   ],
   "source": [
    "# # for gauss:\n",
    "# n_points = list(range(1, 21))\n",
    "# eps_list = [0.0, 0.2, 0.5, 0.7, 0.9, 1.0, 2.0]\n",
    "# num_repetition = 100\n",
    "\n",
    "# adv_test_loss = np.zeros([len(eps_list), len(n_points), num_repetition], dtype=np.float64)\n",
    "\n",
    "# for i in range(len(eps_list)):\n",
    "#     if i == 3:\n",
    "#         continue\n",
    "#     arr = np.genfromtxt('tmp_{}.csv'.format(i),delimiter=',', skip_header = 1)\n",
    "#     arr_pruned = arr[:,1:]\n",
    "#     adv_test_loss[i] = arr_pruned\n",
    "\n",
    "adv_test_loss_tmp = np.genfromtxt('tmp_3.csv',delimiter=',', skip_header = 1)[:,2:]\n",
    "adv_test_loss_tmp.shape\n",
    "#adv_test_loss_tmp[:,0]\n"
   ]
  },
  {
   "cell_type": "code",
   "execution_count": 2,
   "id": "d239e43d",
   "metadata": {},
   "outputs": [
    {
     "data": {
      "image/png": "[encoded data removed]",
      "text/plain": [
       "<Figure size 432x288 with 1 Axes>"
      ]
     },
     "metadata": {
      "needs_background": "light"
     },
     "output_type": "display_data"
    }
   ],
   "source": [
    "x = np.linspace(1,161,9)\n",
    "adv_test_loss = np.zeros([4,9,99])\n",
    "for i in range(4):\n",
    "    arr = np.genfromtxt('tmp_{}.csv'.format(i),delimiter=',', skip_header = 1)\n",
    "    arr_pruned = arr[:,2:]\n",
    "    adv_test_loss[i] = arr_pruned\n",
    "    \n",
    "eps_list = [0.1, 0.2, 0.5, 0.7]\n",
    "test_eps = np.zeros(9)\n",
    "for idx, eps in enumerate(eps_list):\n",
    "    test_eps = np.mean(adv_test_loss[idx], axis=1)\n",
    "    plt.plot(x, test_eps,label=\"$\\u03C4$ = {}\".format(eps))\n",
    "plt.legend(loc='upper right')\n",
    "plt.xlabel('Size of training dataset')\n",
    "plt.ylabel('Test loss')\n",
    "plt.savefig('Class_loss_bern.pdf')"
   ]
  },
  {
   "cell_type": "code",
   "execution_count": null,
   "id": "bd5e7d8b",
   "metadata": {},
   "outputs": [],
   "source": []
  },
  {
   "cell_type": "code",
   "execution_count": null,
   "id": "e8f1525a",
   "metadata": {},
   "outputs": [],
   "source": [
    "x=n_points\n",
    "\n",
    "for eps_idx in range(len(eps_list)):\n",
    "  if eps_idx == 3:\n",
    "    x_n = list(range(1,21,2))  \n",
    "    test_eps_n = np.zeros(len(x_n))    \n",
    "    for n in x_n:\n",
    "        n = int(n)\n",
    "        test_eps_n[(n-1)//2] = np.mean(adv_test_loss_tmp[(n-1)//2,:])\n",
    "    ysmoothed = gaussian_filter1d(test_eps, sigma=2)\n",
    "    plt.plot(x, ysmoothed,label=\"$\\epsilon$ = 0.7\")\n",
    "    continue\n",
    "  eps = eps_list[eps_idx]\n",
    "  test_eps=np.zeros(len(x))\n",
    "  \n",
    "  for n in n_points:\n",
    "    n=int(n)\n",
    "    test_eps[n-1]=np.mean(adv_test_loss[eps_idx,n-1,1:])\n",
    "    \n",
    "  #plt.plot(x, test_eps,label=\"$\\epsilon$ = {}\".format(eps))\n",
    "  ysmoothed = gaussian_filter1d(test_eps, sigma=2)\n",
    "  plt.plot(x, ysmoothed,label=\"$\\epsilon$ = {}\".format(eps))\n",
    "  \n",
    "\n",
    "plt.legend(loc='upper right')\n",
    "plt.xlabel('Size of training dataset')\n",
    "plt.ylabel('Test loss')\n",
    "\n",
    "plt.savefig('Class_loss_gauss_filter2.pdf')\n",
    "#files.download('Class_loss_gauss_filter2.pdf')\n",
    "plt.show()"
   ]
  },
  {
   "cell_type": "code",
   "execution_count": null,
   "id": "271921a7",
   "metadata": {},
   "outputs": [],
   "source": [
    "x=n_points\n",
    "for eps_idx in range(len(eps_list)):\n",
    "  if eps_idx == 3:\n",
    "    x_n = list(range(1,21,2))  \n",
    "    test_eps_n = np.zeros(len(x_n))    \n",
    "    for n in x_n:\n",
    "        n = int(n)\n",
    "        test_eps_n[(n-1)//2] = np.mean(adv_test_loss_tmp[(n-1)//2,:]) - np.mean(adv_test_loss[0,n-1,1:])\n",
    "    ysmoothed = gaussian_filter1d(test_eps, sigma=2)\n",
    "    plt.plot(x, ysmoothed,label=\"$\\epsilon$ = 0.7\")\n",
    "    continue\n",
    "  eps = eps_list[eps_idx]\n",
    "  test_eps=np.zeros(len(x))\n",
    "  \n",
    "  for n in n_points:\n",
    "    n=int(n)\n",
    "    test_eps[n-1]=np.mean(adv_test_loss[eps_idx,n-1,1:]) - np.mean(adv_test_loss[0,n-1,1:])\n",
    "    \n",
    "  #plt.plot(x, test_eps,label=\"$\\epsilon$ = {}\".format(eps))\n",
    "  ysmoothed = gaussian_filter1d(test_eps, sigma=2)\n",
    "  plt.plot(x, ysmoothed,label=\"$\\epsilon$ = {}\".format(eps))\n",
    "  \n",
    "\n",
    "plt.legend(loc='upper right')\n",
    "plt.xlabel('Size of training dataset')\n",
    "plt.ylabel('Test loss')\n",
    "\n",
    "plt.savefig('Class_loss_gauss_filter2.pdf')\n",
    "#files.download('Class_loss_gauss_filter2.pdf')\n",
    "plt.show()"
   ]
  },
  {
   "cell_type": "code",
   "execution_count": null,
   "id": "655b34d9",
   "metadata": {},
   "outputs": [],
   "source": [
    "x=n_points\n",
    "\n",
    "for n in range(10):\n",
    "    n=int(n)\n",
    "    test_eps[n-1]=np.mean(adv_test_loss_tmp[n-1,1:])\n",
    "    \n",
    "plt.plot(x, test_eps,label=\"$\\epsilon$ = {}\".format(eps))   \n",
    "plt.legend(loc='upper right')\n",
    "plt.xlabel('Size of training dataset')\n",
    "plt.ylabel('Test loss')\n",
    "\n",
    "plt.show()"
   ]
  },
  {
   "cell_type": "code",
   "execution_count": null,
   "id": "b4a283e8",
   "metadata": {},
   "outputs": [],
   "source": []
  }
 ],
 "metadata": {
  "kernelspec": {
   "display_name": "Python 3 (ipykernel)",
   "language": "python",
   "name": "python3"
  },
  "language_info": {
   "codemirror_mode": {
    "name": "ipython",
    "version": 3
   },
   "file_extension": ".py",
   "mimetype": "text/x-python",
   "name": "python",
   "nbconvert_exporter": "python",
   "pygments_lexer": "ipython3",
   "version": "3.10.5"
  }
 },
 "nbformat": 4,
 "nbformat_minor": 5
}
